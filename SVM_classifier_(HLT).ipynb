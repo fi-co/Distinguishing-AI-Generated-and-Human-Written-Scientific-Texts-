{
  "nbformat": 4,
  "nbformat_minor": 0,
  "metadata": {
    "colab": {
      "provenance": [],
      "authorship_tag": "ABX9TyN+OXMLe7cpPGUodP3i3OoT",
      "include_colab_link": true
    },
    "kernelspec": {
      "name": "python3",
      "display_name": "Python 3"
    },
    "language_info": {
      "name": "python"
    }
  },
  "cells": [
    {
      "cell_type": "markdown",
      "metadata": {
        "id": "view-in-github",
        "colab_type": "text"
      },
      "source": [
        "<a href=\"https://colab.research.google.com/github/fi-co/Distinguishing-AI-Generated-and-Human-Written-Scientific-Texts-/blob/main/SVM_classifier_(HLT).ipynb\" target=\"_parent\"><img src=\"https://colab.research.google.com/assets/colab-badge.svg\" alt=\"Open In Colab\"/></a>"
      ]
    },
    {
      "cell_type": "markdown",
      "source": [
        "libraries"
      ],
      "metadata": {
        "id": "2s8z9sTX8SRO"
      }
    },
    {
      "cell_type": "code",
      "source": [
        "import pandas as pd\n",
        "from sklearn.model_selection import train_test_split\n",
        "from sklearn.svm import SVC\n",
        "from sklearn.metrics import classification_report, accuracy_score, confusion_matrix\n",
        "from typing_extensions import ClassVar\n",
        "import matplotlib.pyplot as plt\n",
        "import seaborn as sns"
      ],
      "metadata": {
        "id": "VKsUO16-8P4r"
      },
      "execution_count": null,
      "outputs": []
    },
    {
      "cell_type": "markdown",
      "source": [
        "Model"
      ],
      "metadata": {
        "id": "zJR5BkwcGZMt"
      }
    },
    {
      "cell_type": "code",
      "source": [
        "\n",
        "# Load the feature map\n",
        "\n",
        "df = pd.read_csv('features.csv')\n",
        "\n",
        "\n",
        "# Separate features and labels\n",
        "\n",
        "X = df.drop(columns=['Label'])\n",
        "y = df['Label']\n",
        "\n",
        "\n",
        "# Split the data into trainig and testing sets\n",
        "\n",
        "X_train, X_test, y_train, y_test = train_test_split(X, y, test_size=0.2, random_state=12)\n",
        "\n",
        "\n",
        "# Initialize and train the Linear SVM\n",
        "\n",
        "classifier = SVC(kernel='linear', C=0.1, random_state=12)\n",
        "Classifier = classifier.fit(X_train, y_train)\n",
        "\n",
        "\n",
        "# Make predictions on the test set\n",
        "\n",
        "y_pred = Classifier.predict(X_test)\n",
        "\n",
        "\n",
        "# Evaluate the model\n",
        "\n",
        "print(\"Testing Results:\\n\")\n",
        "print(classification_report(y_test, y_pred))\n",
        "print(\"Accuracy:\", accuracy_score(y_test, y_pred))\n",
        "print(\"Confusion Matrix:\\n\", confusion_matrix(y_test, y_pred))\n",
        "\n",
        "\n",
        "# Training set predictions for insights\n",
        "\n",
        "y_train_pred = Classifier.predict(X_train)\n",
        "\n",
        "\n",
        "# Evaluate training performance\n",
        "\n",
        "print(\"\\nTraining Results:\\n\")\n",
        "print(classification_report(y_train, y_train_pred))\n",
        "print(\"Accuracy:\", accuracy_score(y_train, y_train_pred))\n",
        "print(\"Confusion Matrix:\\n\", confusion_matrix(y_train, y_train_pred))"
      ],
      "metadata": {
        "colab": {
          "base_uri": "https://localhost:8080/"
        },
        "id": "hZ6f6dwY8XSk",
        "outputId": "9b8038a2-e4a9-43ed-9ea1-2bf4bed5903d"
      },
      "execution_count": null,
      "outputs": [
        {
          "output_type": "stream",
          "name": "stdout",
          "text": [
            "Testing Results:\n",
            "\n",
            "              precision    recall  f1-score   support\n",
            "\n",
            "           0       1.00      1.00      1.00         4\n",
            "           1       1.00      1.00      1.00         6\n",
            "\n",
            "    accuracy                           1.00        10\n",
            "   macro avg       1.00      1.00      1.00        10\n",
            "weighted avg       1.00      1.00      1.00        10\n",
            "\n",
            "Accuracy: 1.0\n",
            "Confusion Matrix:\n",
            " [[4 0]\n",
            " [0 6]]\n",
            "\n",
            "Training Results:\n",
            "\n",
            "              precision    recall  f1-score   support\n",
            "\n",
            "           0       1.00      0.86      0.92        21\n",
            "           1       0.86      1.00      0.93        19\n",
            "\n",
            "    accuracy                           0.93        40\n",
            "   macro avg       0.93      0.93      0.92        40\n",
            "weighted avg       0.94      0.93      0.92        40\n",
            "\n",
            "Accuracy: 0.925\n",
            "Confusion Matrix:\n",
            " [[18  3]\n",
            " [ 0 19]]\n"
          ]
        }
      ]
    },
    {
      "cell_type": "code",
      "source": [
        "\n",
        "# Save results to a file\n",
        "\n",
        "with open('classification_results.txt', 'w') as f:\n",
        "  f.write(\"Testing Results:\\n\")\n",
        "  f.write(classification_report(y_test, y_pred))\n",
        "  f.write(f\"Accuracy: {accuracy_score(y_test, y_pred)}\\n\")\n",
        "  f.write(\"Confusion Matrix:\\n\")\n",
        "  f.write(str(confusion_matrix(y_test, y_pred)))\n",
        "  f.write(\"\\nTraining Results:\\n\")\n",
        "  f.write(classification_report(y_train, y_train_pred))\n",
        "  f.write(f\"Accuracy: {accuracy_score(y_train, y_train_pred)}\\n\")\n",
        "  f.write(\"Confusion Matrix:\\n\")\n",
        "  f.write(str(confusion_matrix(y_train, y_train_pred)))\n",
        "\n",
        "\n",
        "# Visualize confusion matrices\n",
        "\n",
        "plt.figure(figsize=(12, 5))\n",
        "\n",
        "plt.subplot(1, 2, 1)\n",
        "sns.heatmap(confusion_matrix(y_test, y_pred), annot=True, fmt='d', cmap='Blues')\n",
        "plt.title('Testing Confusion Matrix')\n",
        "plt.xlabel('Predicted')\n",
        "plt.ylabel('True')\n",
        "\n",
        "plt.subplot(1, 2, 2)\n",
        "sns.heatmap(confusion_matrix(y_train, y_train_pred), annot=True, fmt='d', cmap='Blues')\n",
        "plt.title('Training Confusion Matrix')\n",
        "plt.xlabel('Predicted')\n",
        "plt.ylabel('True')\n",
        "\n",
        "plt.tight_layout()\n",
        "plt.show()\n"
      ],
      "metadata": {
        "colab": {
          "base_uri": "https://localhost:8080/",
          "height": 527
        },
        "id": "0vI14m69H-Hi",
        "outputId": "7cd7c62c-0c1b-4a01-991c-a37c84c42437"
      },
      "execution_count": null,
      "outputs": [
        {
          "output_type": "display_data",
          "data": {
            "text/plain": [
              "<Figure size 1200x500 with 4 Axes>"
            ],
            "image/png": "[encoded data removed]"
          },
          "metadata": {}
        }
      ]
    }
  ]
}